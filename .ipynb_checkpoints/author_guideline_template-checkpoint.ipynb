{
 "cells": [
  {
   "cell_type": "markdown",
   "metadata": {
    "tags": [
     "title"
    ]
   },
   "source": [
    "# Secret Societies and Revolving Doors: Using Mapping the Gay Guides to Study Queer Geographies"
   ]
  },
  {
   "cell_type": "markdown",
   "metadata": {
    "tags": [
     "contributor"
    ]
   },
   "source": [
    "### Amanda Regan[![orcid](https://orcid.org/sites/default/files/images/orcid_16x16.png)](https://orcid.org/ORCID_ID_IF_EXIST) \n",
    "Clemson University"
   ]
  },
  {
   "cell_type": "markdown",
   "metadata": {
    "tags": [
     "copyright"
    ]
   },
   "source": [
    "[![cc-by](https://licensebuttons.net/l/by/4.0/88x31.png)](https://creativecommons.org/licenses/by/4.0/) \n",
    "©<AMANDA REGAN>. Published by De Gruyter in cooperation with the University of Luxembourg Centre for Contemporary and Digital History. This is an Open Access article distributed under the terms of the [Creative Commons Attribution License CC-BY](https://creativecommons.org/licenses/by/4.0/)\n"
   ]
  },
  {
   "cell_type": "code",
   "execution_count": 1,
   "metadata": {
    "tags": [
     "cover"
    ]
   },
   "outputs": [
    {
     "data": {
      "image/png": "[encoded data removed]"
     },
     "metadata": {},
     "output_type": "display_data"
    }
   ],
   "source": [
    "library(\"IRdisplay\")\n",
    "display_png(file=\"./media/placeholder.png\")"
   ]
  },
  {
   "cell_type": "markdown",
   "metadata": {
    "tags": [
     "keywords"
    ]
   },
   "source": [
    "FirstKeyword, SecondKeyword, AlwaysSeparatedByAComma"
   ]
  },
  {
   "cell_type": "markdown",
   "metadata": {
    "tags": [
     "abstract"
    ]
   },
   "source": [
    "This is an abstract (...)"
   ]
  },
  {
   "cell_type": "markdown",
   "metadata": {},
   "source": [
    "## Introduction"
   ]
  },
  {
   "cell_type": "markdown",
   "metadata": {},
   "source": [
    "This is the first paragrah "
   ]
  },
  {
   "cell_type": "markdown",
   "metadata": {
    "tags": [
     "hermeneutics"
    ]
   },
   "source": [
    "This is a hermeneutic paragraph"
   ]
  },
  {
   "cell_type": "markdown",
   "metadata": {
    "jdh": {
     "module": "object",
     "object": {
      "source": [
       "table 1: label table 1"
      ]
     }
    },
    "tags": [
     "table-1"
    ]
   },
   "source": [
    "Editor|1641|1798|1916\n",
    "---|---|---|---\n",
    "Senan|0.55|0.4|0.3\n",
    "Henry|0.71|0.5|0.63"
   ]
  },
  {
   "cell_type": "markdown",
   "metadata": {
    "tags": [
     "hidden"
    ]
   },
   "source": [
    "Type Markdown and LaTeX:  𝛼2"
   ]
  },
  {
   "cell_type": "code",
   "execution_count": null,
   "metadata": {},
   "outputs": [],
   "source": [
    "# Check R version\n",
    "R.version"
   ]
  },
  {
   "cell_type": "markdown",
   "metadata": {},
   "source": [
    "<cite data-cite=\"627056/UASQIXNS\"></cite>"
   ]
  },
  {
   "cell_type": "code",
   "execution_count": 5,
   "metadata": {},
   "outputs": [
    {
     "data": {
      "text/html": [
       "<table class=\"dataframe\">\n",
       "<caption>A data.frame: 6 × 13</caption>\n",
       "<thead>\n",
       "\t<tr><th></th><th scope=col>ID</th><th scope=col>title</th><th scope=col>description</th><th scope=col>streetaddress</th><th scope=col>type</th><th scope=col>amenityfeatures</th><th scope=col>city</th><th scope=col>state</th><th scope=col>Year</th><th scope=col>notes</th><th scope=col>lat</th><th scope=col>lon</th><th scope=col>status</th></tr>\n",
       "\t<tr><th></th><th scope=col>&lt;chr&gt;</th><th scope=col>&lt;chr&gt;</th><th scope=col>&lt;chr&gt;</th><th scope=col>&lt;chr&gt;</th><th scope=col>&lt;chr&gt;</th><th scope=col>&lt;chr&gt;</th><th scope=col>&lt;chr&gt;</th><th scope=col>&lt;chr&gt;</th><th scope=col>&lt;int&gt;</th><th scope=col>&lt;chr&gt;</th><th scope=col>&lt;dbl&gt;</th><th scope=col>&lt;dbl&gt;</th><th scope=col>&lt;chr&gt;</th></tr>\n",
       "</thead>\n",
       "<tbody>\n",
       "\t<tr><th scope=row>1</th><td>3213</td><td><span style=white-space:pre-wrap>'B.A.'      </span></td><td><span style=white-space:pre-wrap>(woods &amp; ponds)              </span></td><td><span style=white-space:pre-wrap>      </span></td><td>Cruising Areas</td><td>Cruisy Area</td><td><span style=white-space:pre-wrap>Lake Placid   </span></td><td>NY</td><td>1982</td><td></td><td>44.27949</td><td> -73.97987</td><td>Location could not be verified. General city or location coordinates used.</td></tr>\n",
       "\t<tr><th scope=row>2</th><td>2265</td><td>'B.A.' Beach</td><td>2 mi. E.                     </td><td>Rte. 2</td><td>Cruising Areas</td><td>Cruisy Area</td><td>Troy          </td><td>NY</td><td>1981</td><td></td><td>42.72841</td><td> -73.69178</td><td>Location could not be verified. General city or location coordinates used.</td></tr>\n",
       "\t<tr><th scope=row>3</th><td>3269</td><td>'B.A.' Beach</td><td>nr. Salt Air Beach           </td><td>      </td><td>Cruising Areas</td><td>Cruisy Area</td><td>Salt Lake City</td><td>UT</td><td>1981</td><td></td><td>40.74781</td><td>-112.18727</td><td>Location could not be verified. General city or location coordinates used.</td></tr>\n",
       "\t<tr><th scope=row>4</th><td>3388</td><td>'B.A.' Beach</td><td>nr. Evergreen Floating Bridge</td><td>      </td><td>Cruising Areas</td><td>Cruisy Area</td><td>Seattle       </td><td>WA</td><td>1981</td><td></td><td>47.60621</td><td>-122.33207</td><td>Location could not be verified. General city or location coordinates used.</td></tr>\n",
       "\t<tr><th scope=row>5</th><td>3508</td><td>'B.A.' Beach</td><td>(2 mi. E. on Rte. 2)         </td><td>      </td><td>Cruising Areas</td><td>Cruisy Area</td><td>Troy          </td><td>NY</td><td>1982</td><td></td><td>42.72841</td><td> -73.69178</td><td>Location could not be verified. General city or location coordinates used.</td></tr>\n",
       "\t<tr><th scope=row>6</th><td>5116</td><td>'B.A.' Beach</td><td>nr. Evergreen Floating Bridge</td><td>      </td><td>Cruising Areas</td><td>Cruisy Area</td><td>Seattle       </td><td>WA</td><td>1983</td><td></td><td>47.60621</td><td>-122.33207</td><td>Location could not be verified. General city or location coordinates used.</td></tr>\n",
       "</tbody>\n",
       "</table>\n"
      ],
      "text/latex": [
       "A data.frame: 6 × 13\n",
       "\\begin{tabular}{r|lllllllllllll}\n",
       "  & ID & title & description & streetaddress & type & amenityfeatures & city & state & Year & notes & lat & lon & status\\\\\n",
       "  & <chr> & <chr> & <chr> & <chr> & <chr> & <chr> & <chr> & <chr> & <int> & <chr> & <dbl> & <dbl> & <chr>\\\\\n",
       "\\hline\n",
       "\t1 & 3213 & 'B.A.'       & (woods \\& ponds)               &        & Cruising Areas & Cruisy Area & Lake Placid    & NY & 1982 &  & 44.27949 &  -73.97987 & Location could not be verified. General city or location coordinates used.\\\\\n",
       "\t2 & 2265 & 'B.A.' Beach & 2 mi. E.                      & Rte. 2 & Cruising Areas & Cruisy Area & Troy           & NY & 1981 &  & 42.72841 &  -73.69178 & Location could not be verified. General city or location coordinates used.\\\\\n",
       "\t3 & 3269 & 'B.A.' Beach & nr. Salt Air Beach            &        & Cruising Areas & Cruisy Area & Salt Lake City & UT & 1981 &  & 40.74781 & -112.18727 & Location could not be verified. General city or location coordinates used.\\\\\n",
       "\t4 & 3388 & 'B.A.' Beach & nr. Evergreen Floating Bridge &        & Cruising Areas & Cruisy Area & Seattle        & WA & 1981 &  & 47.60621 & -122.33207 & Location could not be verified. General city or location coordinates used.\\\\\n",
       "\t5 & 3508 & 'B.A.' Beach & (2 mi. E. on Rte. 2)          &        & Cruising Areas & Cruisy Area & Troy           & NY & 1982 &  & 42.72841 &  -73.69178 & Location could not be verified. General city or location coordinates used.\\\\\n",
       "\t6 & 5116 & 'B.A.' Beach & nr. Evergreen Floating Bridge &        & Cruising Areas & Cruisy Area & Seattle        & WA & 1983 &  & 47.60621 & -122.33207 & Location could not be verified. General city or location coordinates used.\\\\\n",
       "\\end{tabular}\n"
      ],
      "text/markdown": [
       "\n",
       "A data.frame: 6 × 13\n",
       "\n",
       "| <!--/--> | ID &lt;chr&gt; | title &lt;chr&gt; | description &lt;chr&gt; | streetaddress &lt;chr&gt; | type &lt;chr&gt; | amenityfeatures &lt;chr&gt; | city &lt;chr&gt; | state &lt;chr&gt; | Year &lt;int&gt; | notes &lt;chr&gt; | lat &lt;dbl&gt; | lon &lt;dbl&gt; | status &lt;chr&gt; |\n",
       "|---|---|---|---|---|---|---|---|---|---|---|---|---|---|\n",
       "| 1 | 3213 | 'B.A.'       | (woods &amp; ponds)               | <!----> | Cruising Areas | Cruisy Area | Lake Placid    | NY | 1982 | <!----> | 44.27949 |  -73.97987 | Location could not be verified. General city or location coordinates used. |\n",
       "| 2 | 2265 | 'B.A.' Beach | 2 mi. E.                      | Rte. 2 | Cruising Areas | Cruisy Area | Troy           | NY | 1981 | <!----> | 42.72841 |  -73.69178 | Location could not be verified. General city or location coordinates used. |\n",
       "| 3 | 3269 | 'B.A.' Beach | nr. Salt Air Beach            | <!----> | Cruising Areas | Cruisy Area | Salt Lake City | UT | 1981 | <!----> | 40.74781 | -112.18727 | Location could not be verified. General city or location coordinates used. |\n",
       "| 4 | 3388 | 'B.A.' Beach | nr. Evergreen Floating Bridge | <!----> | Cruising Areas | Cruisy Area | Seattle        | WA | 1981 | <!----> | 47.60621 | -122.33207 | Location could not be verified. General city or location coordinates used. |\n",
       "| 5 | 3508 | 'B.A.' Beach | (2 mi. E. on Rte. 2)          | <!----> | Cruising Areas | Cruisy Area | Troy           | NY | 1982 | <!----> | 42.72841 |  -73.69178 | Location could not be verified. General city or location coordinates used. |\n",
       "| 6 | 5116 | 'B.A.' Beach | nr. Evergreen Floating Bridge | <!----> | Cruising Areas | Cruisy Area | Seattle        | WA | 1983 | <!----> | 47.60621 | -122.33207 | Location could not be verified. General city or location coordinates used. |\n",
       "\n"
      ],
      "text/plain": [
       "  ID   title        description                   streetaddress type          \n",
       "1 3213 'B.A.'       (woods & ponds)                             Cruising Areas\n",
       "2 2265 'B.A.' Beach 2 mi. E.                      Rte. 2        Cruising Areas\n",
       "3 3269 'B.A.' Beach nr. Salt Air Beach                          Cruising Areas\n",
       "4 3388 'B.A.' Beach nr. Evergreen Floating Bridge               Cruising Areas\n",
       "5 3508 'B.A.' Beach (2 mi. E. on Rte. 2)                        Cruising Areas\n",
       "6 5116 'B.A.' Beach nr. Evergreen Floating Bridge               Cruising Areas\n",
       "  amenityfeatures city           state Year notes lat      lon       \n",
       "1 Cruisy Area     Lake Placid    NY    1982       44.27949  -73.97987\n",
       "2 Cruisy Area     Troy           NY    1981       42.72841  -73.69178\n",
       "3 Cruisy Area     Salt Lake City UT    1981       40.74781 -112.18727\n",
       "4 Cruisy Area     Seattle        WA    1981       47.60621 -122.33207\n",
       "5 Cruisy Area     Troy           NY    1982       42.72841  -73.69178\n",
       "6 Cruisy Area     Seattle        WA    1983       47.60621 -122.33207\n",
       "  status                                                                    \n",
       "1 Location could not be verified. General city or location coordinates used.\n",
       "2 Location could not be verified. General city or location coordinates used.\n",
       "3 Location could not be verified. General city or location coordinates used.\n",
       "4 Location could not be verified. General city or location coordinates used.\n",
       "5 Location could not be verified. General city or location coordinates used.\n",
       "6 Location could not be verified. General city or location coordinates used."
      ]
     },
     "metadata": {},
     "output_type": "display_data"
    }
   ],
   "source": [
    "mgg <- readRDS(\"script/data.rds\")\n",
    "head(mgg)"
   ]
  },
  {
   "cell_type": "code",
   "execution_count": null,
   "metadata": {},
   "outputs": [],
   "source": []
  }
 ],
 "metadata": {
  "celltoolbar": "Tags",
  "cite2c": {
   "citations": {
    "627056/UASQIXNS": {
     "ISBN": "978-1-4399-0553-1",
     "abstract": "What did young, independent women do for fun and how did they pay their way into New York City's turn-of-the-century pleasure places? Cheap Amusements is a fascinating discussion of young working women whose meager wages often fell short of bare subsistence and rarely allowed for entertainment expenses.  Kathy Peiss follows working women into saloons, dance halls, Coney Island amusement parks, social clubs, and nickelodeons to explore the culture of these young women between 1880 and 1920 as expressed in leisure activities. By examining the rituals and styles they adopted and placing that culture in the larger context of urban working-class life, she offers us a complex picture of the dynamics shaping a working woman's experience and consciousness at the turn-of-the-century. Not only does her analysis lead us to new insights into working-class culture, changing social relations between single men and women, and urban courtship, but it also gives us a fuller understanding of the cultural transformations that gave rise to the commercialization of leisure.  The early twentieth century witnessed the emergence of \"heterosocial companionship\" as a dominant ideology of gender, affirming mixed-sex patterns of social interaction, in contrast to the nineteenth century's segregated spheres. Cheap Amusements argues that a crucial part of the \"reorientation of American culture\" originated from below, specifically in the subculture of working women to be found in urban dance halls and amusement resorts.",
     "author": [
      {
       "family": "Peiss",
       "given": "Kathy"
      }
     ],
     "issued": {
      "day": 19,
      "month": 1,
      "year": 2011
     },
     "language": "en",
     "number-of-pages": "257",
     "publisher": "Temple University Press",
     "title": "Cheap Amusements",
     "type": "book"
    }
   }
  },
  "kernelspec": {
   "display_name": "R",
   "language": "R",
   "name": "ir"
  },
  "toc": {
   "base_numbering": 1,
   "nav_menu": {},
   "number_sections": true,
   "sideBar": true,
   "skip_h1_title": false,
   "title_cell": "Table of Contents",
   "title_sidebar": "Contents",
   "toc_cell": false,
   "toc_position": {},
   "toc_section_display": true,
   "toc_window_display": false
  }
 },
 "nbformat": 4,
 "nbformat_minor": 4
}
