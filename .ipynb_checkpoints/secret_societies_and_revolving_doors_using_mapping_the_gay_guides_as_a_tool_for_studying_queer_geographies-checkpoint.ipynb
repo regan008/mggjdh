{
 "cells": [
  {
   "cell_type": "markdown",
   "metadata": {
    "tags": [
     "title"
    ]
   },
   "source": [
    "# Secret Societies and Revolving Doors: Using Mapping the Gay Guides to Study Queer Geographies"
   ]
  },
  {
   "cell_type": "markdown",
   "metadata": {
    "tags": [
     "contributor"
    ]
   },
   "source": [
    "### Amanda Regan[![orcid](https://orcid.org/sites/default/files/images/orcid_16x16.png)](https://orcid.org/0000-0002-4260-5839) \n",
    "Clemson University"
   ]
  },
  {
   "cell_type": "markdown",
   "metadata": {
    "tags": [
     "copyright"
    ]
   },
   "source": [
    "[![cc-by](https://licensebuttons.net/l/by/4.0/88x31.png)](https://creativecommons.org/licenses/by/4.0/) \n",
    "© Amanda Regan. Published by De Gruyter in cooperation with the University of Luxembourg Centre for Contemporary and Digital History. This is an Open Access article distributed under the terms of the [Creative Commons Attribution License CC-BY](https://creativecommons.org/licenses/by/4.0/)\n"
   ]
  },
  {
   "cell_type": "code",
   "execution_count": null,
   "metadata": {
    "tags": [
     "cover"
    ]
   },
   "outputs": [],
   "source": [
    "library(\"IRdisplay\")\n",
    "display_png(file=\"./media/damroncovers.png\")"
   ]
  },
  {
   "cell_type": "markdown",
   "metadata": {
    "tags": [
     "keywords"
    ]
   },
   "source": [
    "LGBTQ History, Mapping, Digital History, United States of America"
   ]
  },
  {
   "cell_type": "markdown",
   "metadata": {
    "tags": [
     "abstract"
    ]
   },
   "source": [
    "This is an abstract (...)"
   ]
  },
  {
   "cell_type": "markdown",
   "metadata": {},
   "source": [
    "## Introduction"
   ]
  },
  {
   "cell_type": "markdown",
   "metadata": {
    "tags": [
     "narrative"
    ]
   },
   "source": [
    "Did Jackson, Mississippi have a LGBTQ community? That was the question posed in Carol Taff’s 1979 article for the _Jackson Daily News_ entitled “Jackson’s insular, secret society.” Twenty years prior, Taff argued, discussions of sexuality in Jackson were a mere whisper and most residents would have \"scoffed at the idea that the city had a gay population of any size.” Despite this perception, however, Taff noted that it was likely that there were as many as 25,000 \"full-fledged homosexuals living in Jackson\" even if many had not yet “opened the closet door.\" The estimate came from Eddie Sandifer, the president of the Mississippi Gay Alliance. Basing this number on studies that show the number of LGBTQ Americans could be as high as 1 in 10, Sandifer noted that because \"Jackson is the capital city...the percentage is higher.\" It was common, he explained, for LGBTQ Americans to come \"from rural areas to cities where they can be more open\" (<cite data-cite=\"627056/35Y4T6Q8\"></cite>). Jackson, he argued, was a draw for gay rural Mississippians seeking community."
   ]
  },
  {
   "cell_type": "markdown",
   "metadata": {
    "tags": [
     "narrative"
    ]
   },
   "source": [
    "But where did these LGBTQ Jacksonians congregate and how did they find each other? The article notes that although queer life was somewhat of a \"secret society\" there were \"obvious gay hangouts.” These hangouts included places such as “city parks, especially Smith Park downtown in the shadow of the governor's mansion,” as well as the city's two gay bars, which were unnamed. Other locations mentioned, like the Steak N’Eggs (after midnight) and local hotel cocktail lounges were more nuanced spaces that were likely not public knowledge to non-LGBTQ+ folks. It is likely you needed access to the city’s local networks to gain entry to such spaces (<cite data-cite=\"627056/35Y4T6Q8\"></cite>)."
   ]
  },
  {
   "cell_type": "markdown",
   "metadata": {
    "tags": [
     "narrative"
    ]
   },
   "source": [
    "For historians, descriptions of gay spaces such as the ones in the _Jackson Daily News_ are invaluable and crucial sources. But they only represent the narrowest glance into what Taff and others described as a “secret society.” Another entry point into these spaces are historical guidebooks that listed gay spaces in cities across the United States. There were numerous versions, but the longest running guide was _Bob Damron’s Address Book_. In 1979 when Taft wrote about Jackson’s insular community, the Damron Guides listed over 4,000 spaces across every U.S. state and territory representing a vibrant community. The listings in the guides likely do not represent the entirety of LGBTQ spaces in America, and there are surely blind spots in what Damron choose to include in his guides. As a white gay man from San Francisco, the guides reflected Damron’s experience and biases but, nevertheless, these directories offer invaluable data for historians. The gay guides offer another entry point into studying American queer life in the late twentieth-century. "
   ]
  },
  {
   "cell_type": "markdown",
   "metadata": {
    "tags": [
     "narrative"
    ]
   },
   "source": [
    "That project is made easier with the advent of digital technology. The guides begin in 1965 with just 785 locations in the contiguous United States. By 1985 there are 5,746 locations across the United States and its territories. Between 1965 and 1985 there are over 60,000 entries and approximately 150,000 by 2005 - a scale that could be considered “big data” by historian’s standards. Of course, this data is not new but having the data in digital form is allows us to ask new questions about queer life in America. "
   ]
  },
  {
   "cell_type": "code",
   "execution_count": 4,
   "metadata": {
    "tags": [
     "hermeneutics",
     "narrative"
    ]
   },
   "outputs": [
    {
     "name": "stderr",
     "output_type": "stream",
     "text": [
      "\n",
      "Attaching package: ‘dplyr’\n",
      "\n",
      "\n",
      "The following objects are masked from ‘package:stats’:\n",
      "\n",
      "    filter, lag\n",
      "\n",
      "\n",
      "The following objects are masked from ‘package:base’:\n",
      "\n",
      "    intersect, setdiff, setequal, union\n",
      "\n",
      "\n"
     ]
    },
    {
     "data": {
      "image/png": "[encoded data removed]",
      "text/plain": [
       "plot without title"
      ]
     },
     "metadata": {
      "image/png": {
       "height": 420,
       "width": 420
      }
     },
     "output_type": "display_data"
    }
   ],
   "source": [
    "library(dplyr)\n",
    "library(ggplot2)\n",
    "mgg <- readRDS(\"script/data.rds\")\n",
    "mgg.growth.by.year <- mgg %>% group_by(Year) %>% summarize(count = n())\n",
    "ggplot(mgg.growth.by.year, aes(x=Year, y=count)) +\n",
    "  geom_line() + ggtitle(\"Number of Locations in the Bob Damron Address Book, 1965-1980\")"
   ]
  },
  {
   "cell_type": "markdown",
   "metadata": {
    "tags": [
     "narrative"
    ]
   },
   "source": [
    "In the last twenty years historical sources have been digitized on a scale that is almost hard to comprehend. This new abundance of digital sources and the field of digital history has changed the ways that some historians study the past (<cite data-cite=\"627056/H7UTBZHZ\"></cite>), (<cite data-cite=\"627056/W73KKIZI\"></cite>), (<cite data-cite=\"627056/EWGFL9LS\"></cite>). An uneven landscape of access and archival revisionism has complicated the use of digitized sources but, nevertheless, historians are now faced with archives of a new scale. These digitized sources allow historians to ask and answer historical questions in new ways. As digital humanities scholar Cameron Blevins aptly described, the promise of digital history is to “radically expand our ability to access and draw meaning from the historical record” (<cite data-cite=\"627056/AHB59DXV\"></cite>). _Mapping the Gay Guides_ seeks to do that and functions as both a tool for other researchers studying LGBTQ history and as the foundation for myself and my collaborator’s research."
   ]
  },
  {
   "cell_type": "markdown",
   "metadata": {
    "tags": [
     "hermeneutics"
    ]
   },
   "source": [
    "[_Mapping the Gay Guides_](http://www.mappingthegayguides.org) began in 2019. It is a collaboration between Dr. Amanda Regan and Dr. Eric Gonzaba (California State University, Fullerton). The project initially began by focusing on just the U.S. South but expanded when the project received seed funding from California State University, Fullerton. The project launched in February 2020 with an initial data set for 1965 through 1980. In 2021 the project [received a three-year grant from the National Endowment for the Humanities (NEH)](https://www.mappingthegayguides.org/news/neh-funding/) to support the expansion of _Mapping the Gay Guides_. This generous support comes from the Humanities Collections and Reference Resources program within the NEH’s Division of Preservation and Access. The grant has funded the extension of MGG from 1981 through 2005 and the redevelopment of the project's map and other visualizations. This article draws on the data from 1965 through 1985. The remainder of the data from 1986 through 2005 is still being processed but we anticipate releasing it in the Summer or Fall of 2024. "
   ]
  },
  {
   "cell_type": "markdown",
   "metadata": {
    "tags": [
     "narrative"
    ]
   },
   "source": [
    "_Mapping the Gay Guides_ (MGG), a digital history project, seeks to digitize and turn _Bob Damron’s Address Books_ into data that can be used to study, analyze, and complicate stories about communities like Jackson. Using Jackson, Mississippi’s supposedly “insular, secret society” as a jumping off point, this paper aims to discuss the ways that MGG can be a tool for scholars seeking to locate LGBTQ life in America. Through both the [project’s website](https://www.mappingthegayguides.org) and [interactive mapping visualization](https://www.mappingthegayguides.org/viz/map) as well as an [open access dataset](https://github.com/MappingtheGayGuides/MGG-Data), MGG hopes to be a platform and tool for advancing the historical study of LGBTQ spaces, places, and people. "
   ]
  },
  {
   "cell_type": "markdown",
   "metadata": {},
   "source": [
    "## Bob Damron and the _Damron Address Books_"
   ]
  },
  {
   "cell_type": "markdown",
   "metadata": {
    "tags": [
     "narrative"
    ]
   },
   "source": [
    "Living in Los Angeles, California in the 1950s and 1960s Bob Damron made his career in the bar and hospitality industry. He owned several gay bars during this period and frequently travelled for his business. While traveling, he frequently sought out friends, companions, and safety at friendly businesses. In the early 1960s he began cataloging gay spaces and jotting down the names of the spots he frequented, sometimes loaning out his notebooks to fellow gay friends to take with them on their own journeys. These prolific lists became the basis for his travel guide, _Bob Damron’s Address Book_, which he began publishing in 1965. These travel directories became survival guides for many gay and queer travelers across the United States. First published in an era when homosexuality was illegal in nearly every state and classified as a psychological disorder by the American Psychiatric Association's Diagnostic and Statistic Manual of Mental Disorders, these travel guides helped gays and lesbians find bars, cocktail lounges, bookstores, restaurants, bathhouses, cinemas, and cruising grounds that catered to people like themselves. Much like the Green Books of the 1950s and 1960s, which African Americans used to find friendly businesses that would cater to Black citizens in the era of Jim Crow apartheid, Damron’s guidebooks aided a generation of queer people in identifying sites of community, pleasure, and politics. The gay guides provided people with a list of spaces where they could feel safe in revealing their true selves. Small, discrete, and pocket-sized these guides functioned as a map to a world that often, out of necessity or preference, was veiled from public view. "
   ]
  },
  {
   "cell_type": "code",
   "execution_count": null,
   "metadata": {},
   "outputs": [],
   "source": [
    "display_png(file=\"./media/Damron-cruise-magazine.png\")"
   ]
  },
  {
   "cell_type": "markdown",
   "metadata": {
    "tags": [
     "narrative"
    ]
   },
   "source": [
    "The guides are not, however, an unbiased representation of gay spaces in the United States. They skewed male, were targeted at a white audience, and were ultimately a reflection Damron’s own experience as a white upper middle class gay man. Listings in the Damron Guides were grouped by state and then by city. A typical entry in the guide includes the name of the establishment, an address, sometimes notes or warnings, and often an “Explanation of Listings” which were lettered designations describing Damron’s categorization of the location. For example, a location may contain a “(D)” next to it indicating that it is a popular location for dancing. As the guides grow in popularity during the 1970s Damron revises the categorizations he uses and expands the locations included within the guides and, in the process, makes the guides biases even more transparent. Initially only focused on the United States, he eventually expands to include U.S. territories and foreign countries. "
   ]
  },
  {
   "cell_type": "markdown",
   "metadata": {
    "tags": [
     "hermeneutics"
    ]
   },
   "source": [
    "## Turning the _Damron Address Books_ into Historical Data"
   ]
  },
  {
   "cell_type": "markdown",
   "metadata": {
    "tags": [
     "hermeneutics"
    ]
   },
   "source": [
    "Turning a historical document, such as the Damron Address Books, into data that can be used for mapping is a process fraught with methodological decisions that shape the resulting dataset. The goal of this section is to make visible the choices that the project team has made when transcribing and categorizing the data. The MGG project team views the dataset and project visualizations as both output for a public audience seeking to understand their own community’s history and as tools for researchers interested in studying a variety of topics related to historical gay life in the United States. Therefore, differentiating between the different ways that latitude and longitude coordinates were determined and documenting how the data was constructed, is essential in making this data open and accessible. "
   ]
  },
  {
   "cell_type": "code",
   "execution_count": null,
   "metadata": {
    "tags": [
     "hermeneutics"
    ]
   },
   "outputs": [],
   "source": [
    "screenshot of entries"
   ]
  },
  {
   "cell_type": "markdown",
   "metadata": {
    "tags": [
     "hermeneutics"
    ]
   },
   "source": [
    "The Damron Guides have historically been scarce and hard to access. Only one library in the United States has an entire run and although the Damron Guides have been digitized up until 1980 they are only available via an academic subscription to the Alexander Street LGBT Thought and Culture database. The MGG Team has worked in collaboration with the ONE Archives at the University of Southern California to digitize the guides from 1981 through 2005. These guides will soon be available through USC’s library. However, digitization is only one step toward mapping this data. In order to generate maps and visualizations based on the Damron Guides, it is first necessary to first transcribe the data included in the digitized images of the guides into text that is machine readable."
   ]
  },
  {
   "cell_type": "markdown",
   "metadata": {
    "tags": [
     "hermeneutics"
    ]
   },
   "source": [
    "The image above shows an example of listings in the Damron Guides. They are grouped by state and then by city. A typical entry includes the name of the establishment, an address, sometimes notes or warnings, and often an “Explanation of Listings” which are the lettered designations describing Damron’s categorization of the location such as “(D)” for dancing. Our data mirrors the information included in each listing as closely as possible and tries to create a faithful recreation of the primary source. The amenities changed over time and Damron regularly added, removed, or changed the amenity for some categories. One notable change is the amenity (G) for “Girls, but seldom exclusively” which appears in the 1960s guides but is later changed to (L) for “Ladies” and eventually (W) for “Women” in the 1990s. This presents a unique challenge for displaying this data. Another is the category (B) which initially stands for \"Blacks Predominant\" and later is changed to \"Blacks Frequent\". In the 1990s this category is changed entirely and appears as (MRC-AF) for \"Multi-Racial Clientele - African American.\" The changes in the language used to describe amenties is significant and alludes to the way the guides were used. In the case of (B), for example, the categorization likely served as a warning to white male patrons who would not want to visit a space that wasn't segregated. "
   ]
  },
  {
   "cell_type": "markdown",
   "metadata": {
    "tags": [
     "hermeneutics"
    ]
   },
   "source": [
    "We have chosen to maintain the categorization assigned by Damron and we use the term “Amenity Feature” to describe these categories. However, we have also added our own classification in the “Type” field. Between 1965 and 1983, the type field goes beyond Damron’s categorization by describing locations as one or more of the following types: Bars/Clubs, Hotels, Church, Theatre, Restaurant, Business, Baths, Book Stores or Cruising Area. While some of our type designations overlap with Damron’s categorization, we note that locations can often function as multiple types. For example, many bars were located inside hotels and in order to track this unique kind of space we’ve made these locations both bars and hotels. Likewise, in the cases where a straight establishment (like a mall) is noted for being “Cruisy” but is not listed under Cruising Areas in the guide, we’ve assigned the type of location as Cruising Area. As the guides grow in length the diversity of business types increases but Damron’s own classification system doesn’t account for the rise in bookstores, theaters, or escort services listed in the guides. We’ve added categories to account for such locations making the type classification more robust and nuanced than Damron’s. After transcribing and categorizing the data contained in the guide, it was necessary to associate the location’s address with spatial longitude and latitude coordinates so that they could be plotted onto a map. This process is known as geocoding."
   ]
  },
  {
   "cell_type": "code",
   "execution_count": null,
   "metadata": {
    "tags": [
     "hermeneutics"
    ]
   },
   "outputs": [],
   "source": [
    "geocode.status <- mgg %>% group_by(status) %>% summarize(count = n())\n",
    "geocode.status"
   ]
  },
  {
   "cell_type": "code",
   "execution_count": null,
   "metadata": {
    "tags": [
     "hermeneutics"
    ]
   },
   "outputs": [],
   "source": [
    "ggplot(geocode.status, aes(x=\"\", y=count, fill=status)) +\n",
    "  geom_bar(stat=\"identity\", width=1, color=\"white\") +\n",
    "  coord_polar(\"y\", start=0) +\n",
    "  \n",
    "  theme_void()"
   ]
  },
  {
   "cell_type": "markdown",
   "metadata": {
    "tags": [
     "hermeneutics"
    ]
   },
   "source": [
    "Roughly 34% of the entries included in the Damron Address Books between 1965 and 1985 were addresses that we deemed “unclear.” This meant that the addresses were either vague and un-mappable locations (i.e. “Inquire Locally” or “U.S. Hwy 67”) or were locations that had descriptive street addresses that required us to identify them by hand (i.e. Rice Park or ‘Primrose Path’ – Senate St. near Capitol). Of these “unclear locations” we were able to identify correct locations for more than half. Addresses listed as “Verified Locations” denote the locations that were found by hand and make up about 22% of the dataset."
   ]
  },
  {
   "cell_type": "markdown",
   "metadata": {
    "tags": [
     "hermeneutics"
    ]
   },
   "source": [
    "However, there were many locations that we were unable to associate a geographical location with. Often these were locations that simply stated “Inquire locally” or where the location was simply too vague to confidently identify. These locations make up 12% of the dataset and are marked by a note in the status column that reads: “Location could not be verified. General city or location coordinates used.” Rather than ignoring these locations, we have opted to use general city coordinates for them. This means, however, that the default map shows all locations and there are frequently clusters of locations with general coordinates mixed with verified locations. We’ve opted to include these locations by default to demonstrate the growth of LGBTQ spaces in the South over time however we recognize that these locations can be somewhat misleading. Therefore, we have included a checkbox on the map controls that will filter the map to show only verified locations."
   ]
  },
  {
   "cell_type": "markdown",
   "metadata": {
    "tags": [
     "hermeneutics"
    ]
   },
   "source": [
    "The resulting dataset has a column that differentiates between three types of locations: \n",
    "* **Google Verified Location:** A location that was able to be verified using Google’s Geocoding API.\n",
    "* **Verified Location:** If a location was not a standard address that could be geocoded, we attempted to verify it manually. A “verified location” means that the location was verified manually by a member of the MGG team.\n",
    "* **Location could not be verified.** General city or location coordinates used: For locations that our team was not able to verify manually, we’ve opted to include the general coordinates for the city. Because these generalized locations can skew the map and provide a false sense of the geographic landscape of a city, we’ve included a checkbox on our app that allows users to filter out these locations and look only at verified locations. However, we’ve opted to include them by default in the map in order to depict the scale of the growth in LGBTQ establishments between 1965 and 1985.\n"
   ]
  },
  {
   "cell_type": "markdown",
   "metadata": {
    "tags": [
     "narrative"
    ]
   },
   "source": [
    "Such a change speaks to how the Damron guides are an imperfect source base that requires historical perspective. The guides reflected the experience of Damron and their consumer base was gay white men. Although the guides do include categories that mention women, Damron’s book was primarily a male travel guide and they were later marketed as such when the company also started publishing the women’s specific guide, _The Damron’s Women Traveller_, in the 1990s. The guide's explanation of listings mentioned women, initially describing (G) as “Girls, but seldom exclusively.” This categorization likely referred to places where lesbians, bisexuals, queer women, or straight women could share bar space with gay men. However, while gay men could patronize a robust world of bars, porn cinemas, and bathhouses by the late 1970s, spaces geared toward women were either not accounted for or more limited in general. Perhaps lesbian, queer, bisexual, and questioning-women found more acceptance in other spaces not highlighted in the Damron Guides, like coffeehouses and feminist organizations (<cite data-cite=\"627056/BQGQSBM9\"></cite>)."
   ]
  },
  {
   "cell_type": "markdown",
   "metadata": {
    "tags": [
     "narrative"
    ]
   },
   "source": [
    "The economic divisions between men and women in the 1960s and 1970s likely magnified problems that prevented the development of more lesbian spaces. **TO BE CONTINUED**"
   ]
  },
  {
   "cell_type": "markdown",
   "metadata": {},
   "source": [
    "## Visualizing Gay Life with _Mapping the Gay Guides_"
   ]
  },
  {
   "cell_type": "markdown",
   "metadata": {
    "tags": [
     "narrative"
    ]
   },
   "source": [
    "Despite its limitations, the data in Damron’s guides is still valuable. MGG takes the guides and digitizes then transcribes them. The result is usable, functioning data that allows researchers to make connections between historical queer communities. Mapping this data allows us to display the distribution of locations and explore the growth of the queer communities over time. In the U.S. South, for example, you can explore 154 queer spots across twelve states in 1965 to over a thousand locations in those same states by 1980. Damron’s use of letters and symbols to designate certain features of bars (the “B” for “Blacks frequent,” for example) allows users to navigate through nuances in queer geography. _Mapping the Gay Guides_ turns the incredible textual documents of gay travel guides into accessible visualizations, useful in exploring change in queer communities over time."
   ]
  },
  {
   "cell_type": "code",
   "execution_count": null,
   "metadata": {},
   "outputs": [],
   "source": [
    "display_png(file=\"./media/mgg-map.png\")"
   ]
  },
  {
   "cell_type": "markdown",
   "metadata": {
    "tags": [
     "narrative"
    ]
   },
   "source": [
    "Returning to the example of Jackson, it is possible to use the mapping visualization on the MGG website to zoom in on Mississippi specifically and examine the entries across multiple years. The map reveals that by 1985 there were 57 entries in Mississippi, up from just 7 in 1965. Given the dramatic changes that occurred for LGBTQ Americans in the 1970s, growth is not overly surprising. Zooming in allows users to look specifically at Jackson in 1980 where just three locations appear: Mae’s Cabaret, the Holiday Inn, and Smith Park which is noted to be (AYOR) or “At Your Own Risk” signaling the potential of police presence in the park. "
   ]
  },
  {
   "cell_type": "code",
   "execution_count": 21,
   "metadata": {
    "tags": [
     "narrative",
     "hermeneutics"
    ]
   },
   "outputs": [
    {
     "data": {
      "text/html": [
       "<table class=\"dataframe\">\n",
       "<caption>A data.frame: 3 × 13</caption>\n",
       "<thead>\n",
       "\t<tr><th scope=col>ID</th><th scope=col>title</th><th scope=col>description</th><th scope=col>streetaddress</th><th scope=col>type</th><th scope=col>amenityfeatures</th><th scope=col>city</th><th scope=col>state</th><th scope=col>Year</th><th scope=col>notes</th><th scope=col>lat</th><th scope=col>lon</th><th scope=col>status</th></tr>\n",
       "\t<tr><th scope=col>&lt;chr&gt;</th><th scope=col>&lt;chr&gt;</th><th scope=col>&lt;chr&gt;</th><th scope=col>&lt;chr&gt;</th><th scope=col>&lt;chr&gt;</th><th scope=col>&lt;chr&gt;</th><th scope=col>&lt;chr&gt;</th><th scope=col>&lt;chr&gt;</th><th scope=col>&lt;int&gt;</th><th scope=col>&lt;chr&gt;</th><th scope=col>&lt;dbl&gt;</th><th scope=col>&lt;dbl&gt;</th><th scope=col>&lt;chr&gt;</th></tr>\n",
       "</thead>\n",
       "<tbody>\n",
       "\t<tr><td>S3452</td><td>Holiday Inn  </td><td>                                                                                                 </td><td>            </td><td>Cruising Areas,Hotel</td><td>Cruisy Area                         </td><td>Jackson</td><td>MS</td><td>1980</td><td></td><td>32.29876</td><td>-90.18481</td><td>Location could not be verified. General city or location coordinates used.</td></tr>\n",
       "\t<tr><td>S4405</td><td>Mae's Cabaret</td><td>(Some ladies) (Sun. - Thur. 8-12pm, Fri. &amp; Sat. 8pm-3am) (Disco on weekends) (Occasional shows)\n",
       "</td><td>207 W. Amite</td><td><span style=white-space:pre-wrap>Bars/Clubs          </span></td><td>(P),(D),(L),(PT),(BYOB),(WE),(*),(S)</td><td>Jackson</td><td>MS</td><td>1980</td><td></td><td>32.30149</td><td>-90.18967</td><td><span style=white-space:pre-wrap>Google Verified Location                                                  </span></td></tr>\n",
       "\t<tr><td>S6477</td><td>Smith Park   </td><td>                                                                                                 </td><td>            </td><td>Cruising Areas      </td><td>Cruisy Area,(AYOR)                  </td><td>Jackson</td><td>MS</td><td>1980</td><td></td><td>32.30123</td><td>-90.18330</td><td>Verified Location                                                         </td></tr>\n",
       "</tbody>\n",
       "</table>\n"
      ],
      "text/latex": [
       "A data.frame: 3 × 13\n",
       "\\begin{tabular}{lllllllllllll}\n",
       " ID & title & description & streetaddress & type & amenityfeatures & city & state & Year & notes & lat & lon & status\\\\\n",
       " <chr> & <chr> & <chr> & <chr> & <chr> & <chr> & <chr> & <chr> & <int> & <chr> & <dbl> & <dbl> & <chr>\\\\\n",
       "\\hline\n",
       "\t S3452 & Holiday Inn   &                                                                                                   &              & Cruising Areas,Hotel & Cruisy Area                          & Jackson & MS & 1980 &  & 32.29876 & -90.18481 & Location could not be verified. General city or location coordinates used.\\\\\n",
       "\t S4405 & Mae's Cabaret & (Some ladies) (Sun. - Thur. 8-12pm, Fri. \\& Sat. 8pm-3am) (Disco on weekends) (Occasional shows)\n",
       " & 207 W. Amite & Bars/Clubs           & (P),(D),(L),(PT),(BYOB),(WE),(*),(S) & Jackson & MS & 1980 &  & 32.30149 & -90.18967 & Google Verified Location                                                  \\\\\n",
       "\t S6477 & Smith Park    &                                                                                                   &              & Cruising Areas       & Cruisy Area,(AYOR)                   & Jackson & MS & 1980 &  & 32.30123 & -90.18330 & Verified Location                                                         \\\\\n",
       "\\end{tabular}\n"
      ],
      "text/markdown": [
       "\n",
       "A data.frame: 3 × 13\n",
       "\n",
       "| ID &lt;chr&gt; | title &lt;chr&gt; | description &lt;chr&gt; | streetaddress &lt;chr&gt; | type &lt;chr&gt; | amenityfeatures &lt;chr&gt; | city &lt;chr&gt; | state &lt;chr&gt; | Year &lt;int&gt; | notes &lt;chr&gt; | lat &lt;dbl&gt; | lon &lt;dbl&gt; | status &lt;chr&gt; |\n",
       "|---|---|---|---|---|---|---|---|---|---|---|---|---|\n",
       "| S3452 | Holiday Inn   | <!----> | <!----> | Cruising Areas,Hotel | Cruisy Area                          | Jackson | MS | 1980 | <!----> | 32.29876 | -90.18481 | Location could not be verified. General city or location coordinates used. |\n",
       "| S4405 | Mae's Cabaret | (Some ladies) (Sun. - Thur. 8-12pm, Fri. &amp; Sat. 8pm-3am) (Disco on weekends) (Occasional shows)\n",
       " | 207 W. Amite | Bars/Clubs           | (P),(D),(L),(PT),(BYOB),(WE),(*),(S) | Jackson | MS | 1980 | <!----> | 32.30149 | -90.18967 | Google Verified Location                                                   |\n",
       "| S6477 | Smith Park    | <!----> | <!----> | Cruising Areas       | Cruisy Area,(AYOR)                   | Jackson | MS | 1980 | <!----> | 32.30123 | -90.18330 | Verified Location                                                          |\n",
       "\n"
      ],
      "text/plain": [
       "  ID    title        \n",
       "1 S3452 Holiday Inn  \n",
       "2 S4405 Mae's Cabaret\n",
       "3 S6477 Smith Park   \n",
       "  description                                                                                      \n",
       "1                                                                                                  \n",
       "2 (Some ladies) (Sun. - Thur. 8-12pm, Fri. & Sat. 8pm-3am) (Disco on weekends) (Occasional shows)\\n\n",
       "3                                                                                                  \n",
       "  streetaddress type                 amenityfeatures                     \n",
       "1               Cruising Areas,Hotel Cruisy Area                         \n",
       "2 207 W. Amite  Bars/Clubs           (P),(D),(L),(PT),(BYOB),(WE),(*),(S)\n",
       "3               Cruising Areas       Cruisy Area,(AYOR)                  \n",
       "  city    state Year notes lat      lon      \n",
       "1 Jackson MS    1980       32.29876 -90.18481\n",
       "2 Jackson MS    1980       32.30149 -90.18967\n",
       "3 Jackson MS    1980       32.30123 -90.18330\n",
       "  status                                                                    \n",
       "1 Location could not be verified. General city or location coordinates used.\n",
       "2 Google Verified Location                                                  \n",
       "3 Verified Location                                                         "
      ]
     },
     "metadata": {},
     "output_type": "display_data"
    }
   ],
   "source": [
    "#LEAFLET MAP AND TABLE 1980\n",
    "\n",
    "jackson.1980 <- mgg %>% filter(city == \"Jackson\" & state == \"MS\" & Year == 1980) \n",
    "#%>% select(title, description, streetaddress, type, amenityfeatures)\n",
    "jackson.1980"
   ]
  },
  {
   "cell_type": "code",
   "execution_count": 24,
   "metadata": {
    "tags": [
     "hermeneutics"
    ]
   },
   "outputs": [
    {
     "data": {
      "text/html": [
       "<iframe src=\"jackson-1980.html\"></iframe>"
      ]
     },
     "metadata": {},
     "output_type": "display_data"
    }
   ],
   "source": [
    "library(leaflet)\n",
    "library(htmlwidgets)\n",
    "library(IRdisplay)\n",
    "\n",
    "jackson.map <- leaflet(data = jackson.1980) %>% addTiles() %>% addMarkers(~lon, ~lat) %>% setView(-90.18481,32.298757, zoom=14)\n",
    "\n",
    "saveWidget(jackson.map, 'jackson-1980.html', selfcontained = FALSE)\n",
    "display_html('<iframe src=\"jackson-1980.html\"></iframe>')"
   ]
  },
  {
   "cell_type": "markdown",
   "metadata": {
    "tags": [
     "narrative"
    ]
   },
   "source": [
    "The guides were constantly evolving and the details of Damron’s methodology for including entries, especially in the early editions of the guide, is unknown. However, the “Publishers Notes” in each edition suggest that the guides were a mix of locations that Damron identified while traveling the country and crowdsourced information from individuals and businesses who would send letters. For example, in the 1969 guide’s “Publishers Note” Damron wrote that he had “traveled to nearly forty states” but he would \"welcome letters from our many readers, and will be most appreciative of any errors, additions or other information” (<cite data-cite=\"627056/ISYCLYW3\"></cite>). By 1976, Damron offered complimentary copies of the guide for “correspondents who have contributed useful, accurate and bonafide information” (<cite data-cite=\"627056/C5S4Y4RQ\"></cite>). Reader suggestions were crucially important to maintaining the guide’s accuracy and relevancy. They helped keep the guide up to date and provided Damron with on the ground information about spaces that were not openly gay serving establishments but were co-opted as hangouts."
   ]
  },
  {
   "cell_type": "markdown",
   "metadata": {
    "tags": [
     "narrative"
    ]
   },
   "source": [
    "Surely there were locations that never appeared in the guide or that appeared in the guide and were inaccurate. Business owners may not have known about the guides and therefore never submitted their location. The establishment and its patrons may have wanted secrecy and avoided being included in the guides. Or, it may have been Damron’s decision not to include locations that were fleeting, unpopular, or where he disliked the ownership. In some locations the guides were sold onsite and it was common to see Damron call establishments out in the text for being delinquent in paying him for the copies they received.  For example, in 1981 Damron added a note to the listing for Wilmington, Delaware’s bar, Renaissance: “Biz must be bad as they refuse to pay me for their Address Books 1-15-80” (<cite data-cite=\"627056/NU85NDSA\"></cite>) It is also likely that Damron’s data was, at times, out of date. Due to the yearly publication schedule listings were actually compiled the year before the guide was released. In the case of Renaissance, the note added by Damron is dated 1-15-80 even though it appears in the 1981 edition of the guide. If a location closed soon after the publication of a new guide, there was a yearlong delay to remove it. It’s notable that, in comparison to the locations mentioned in Taff’s article, the 1980 guide reflects a smaller number of locations. The Steak N’ Eggs, for example, does not appear in the guides until 1981. It took time for the guide to reflect local trends and locations. "
   ]
  },
  {
   "cell_type": "markdown",
   "metadata": {
    "tags": [
     "hermeneutics"
    ]
   },
   "source": [
    "Other projects have sought to use technology to capture the silences in Damron’s guides. For example, the [LGBTQ+ Columbia History Initiative](https://www.historiccolumbia.org/lgbtq-columbia) aims to use oral histories, archival research, and other sources to chart the history of Columbia. They note that the only location included in Damron’s guide between 1965 and 1970 was a beer bar called The Lounge on Lady. However, there was a more robust and hidden community of LGTBQ Columbians who socialized at each other’s homes or found community elsewhere. Their insular nature was the result of police harassment and a lack of protections in workplaces. The state of South Carolina’s “Sex Criminal” series published the names of individuals suspected to be homosexual and contributed to a secretive environment.  Scenes like this were not uncommon, but the work that the LBGTQ+ History Initiative is doing is further proof of the limited nature of the Damron guides. Sometimes the more interesting question is about what has been left out of Damron’s guide and why.  "
   ]
  },
  {
   "cell_type": "markdown",
   "metadata": {
    "tags": [
     "hermeneutics"
    ]
   },
   "source": [
    "Women, for example, are chronically underrepresented in Damron’s guides. In the early 1990s, after Damron died and the company was sold to Gina Gatta, the Damron Corporation began publishing _The Damron’s Women’s Traveller_. _Gaia’s Guides_ were another source targeted at women. Alexandra Diva Ketchum has written extensively about these locations find that women’s guides such as Gaia’s Guide communicated information about “safe” and “women friendly” spaces while also “promoting a lesbian feminist community that centered whiteness and middle-class identity” (<cite data-cite=\"627056/BQGQSBM9\"></cite>), (<cite data-cite=\"627056/TCML8KI4\"></cite>). Similarly, Annelise Heinz and Cameron Blevins’ work, [“Putting Lesbian Community Building on the Map,”](http://www.cameronblevins.org/research/) studies how lesbian feminists built community during the 1970s and 1980s through mapping thousands of locations printed in the bimonthly magazine _Lesbian Connection_."
   ]
  },
  {
   "cell_type": "markdown",
   "metadata": {
    "tags": [
     "narrative"
    ]
   },
   "source": [
    "## Jackson: A View from the Guides"
   ]
  },
  {
   "cell_type": "markdown",
   "metadata": {
    "tags": [
     "narrative"
    ]
   },
   "source": [
    "Jumping off from the 1979 description of Jackson as an “insular and secret society,” it is possible to explore and question that assumption using the dataset provided by MGG and computational methods. Jackson was a growing city in the 1970s and 1980s. According to the US census it grew 2.8% between 1970 and 1980 and had a population of almost 203k. **CITATION NEEDED HERE** It was also the state capital and therefore the seat of governmental power in the state - a fact reflected by the framing of Smith Park, a popular cruising location, as “in the shadow of the governor’s mansion” (<cite data-cite=\"627056/35Y4T6Q8\"></cite>). Compared to other cities within Mississippi, Jackson was the largest. But compared to capital cities across the nation Jackson was relatively small. Other capitals in the south including Atlanta and Richmond were far larger, more urban, and had a larger number of entries in the guides."
   ]
  },
  {
   "cell_type": "markdown",
   "metadata": {
    "tags": [
     "narrative"
    ]
   },
   "source": [
    "Regardless of the size of the capital city, Sandifer suggested that it was Jackson’s position as a capital city that was, in part, responsible for the larger LGBTQ community. “Jackson is the capital city,” he explained, “so the percentage is greater. They come from rural areas to cities where they can be more open.” <cite data-cite=\"undefined\"></cite> However, Jackson was no “Mecca for free-wheeling open homosexuality” Sandifer cautioned. The price to come out of the closet in Jackson, he explained, was often too great. Instead, Jacksonians gathered in private homes or visited gay bars in other cities while on out-of-town business trips. Although Sandifer never mentions the guidebooks, they were a resource for exactly the kind of people that Sandifer describes. They would have been a resource and useful introduction for anyone new to Jackson who was looking to gain access to the city’s LGBTQ community. "
   ]
  },
  {
   "cell_type": "markdown",
   "metadata": {
    "tags": [
     "narrative"
    ]
   },
   "source": [
    "The MGG website is a useful starting point for these questions. The interactive map makes it possible to look up a city and iterate through each year to view change over time. For example, in Jackson the 1965 guide listed just 3 locations: a mixed sports lounge, the Robert E. Lee Hotel Bar, and a bar called Wagon Wheel which was also noted to be a mixed location indicating the presence of both hetero and homosexual patrons. In other words, the Wagon Wheel was often a straight space that could be, and was often, co-opted by LGBTQ people. By 1985 that landscape had changed dramatically. Not only did the number of locations grow from just 3 in 1965 to 16 in 1985, but there was also more diversity in the types of locations listed. Not only were there a few more bars listed, but new types of locations such as advocacy groups, support hotlines, religious institutions and groups, and publications appear. About 7.6% of all locations in 1985 fell into these categories."
   ]
  },
  {
   "cell_type": "markdown",
   "metadata": {
    "tags": [
     "hermeneutics"
    ]
   },
   "source": [
    "The visualization on the website is useful for asking questions about where or when locations appeared but by its nature, it is limited. Asking for comparisons or statistics isn’t possible. However, _Mapping the Gay Guides_ also provides all the data in an easily accessible format. The data that powers our website and interactive visualizations, is an ideal data set for computational methods and exploratory data analysis which allow for more a more nuanced and sophisticated analysis. "
   ]
  },
  {
   "cell_type": "markdown",
   "metadata": {
    "tags": [
     "narrative"
    ]
   },
   "source": [
    "For example, since Jackson was the capital city and unique in Mississippi because of that, we might compare it to other capital cities. Looking at the number of locations in Damron Guides in capital cities over time reveals that not all capital cities are comparable. Capital cities often had more locations than any other city within a state, however when looking at the overall trend, the drastically different sizes and urban-rural classifications of capital cities across the country make them incomparable. This trend is visible when we look at the number of locations, over time, in each capital city: "
   ]
  },
  {
   "cell_type": "code",
   "execution_count": null,
   "metadata": {},
   "outputs": [],
   "source": [
    "capitals <- read.csv(file = \"script/statecaps.csv\", sep = \",\", header=TRUE) \n",
    "capitalcities <- mgg %>% filter(city %in% capitals$city & state %in% capitals$state)\n",
    "capitalcities <- semi_join(x=mgg, y=capitals, by=c(\"city\", \"state\"))\n",
    "\n",
    "total.capital <- capitalcities %>% group_by(city, state, Year) %>% summarize(total.by.year = n())\n",
    "total.capital <- merge(x = total.capital, capitals)\n",
    "fig2 <- ggplot(data=total.capital, aes(x=Year, y=total.by.year)) + geom_bar(stat=\"identity\") + facet_wrap(~state)"
   ]
  },
  {
   "cell_type": "code",
   "execution_count": null,
   "metadata": {
    "tags": [
     "narrative"
    ]
   },
   "outputs": [],
   "source": [
    "fig2"
   ]
  },
  {
   "cell_type": "markdown",
   "metadata": {
    "tags": [
     "narrative"
    ]
   },
   "source": [
    "At first glance it appears that a city like Atlanta consistently had a much more robust LGBTQ community. However, that’s a bit misleading due to population sizes. Atlanta, a major urban city in the 1980s, had a population of over 1.5 million whereas Jackson had a population of just over 202k. A more useful measure is to look at the number of locations per ten thousand people in a city. That changes the viewpoint of capital cities in states like Montana, West Virginia, and Wyoming where that measure is surprisingly high. Looking at the Damron data from this vantage point, it is clear that Jackson’s population was growing and was actually much more comparable to somewhere like Atlanta where in 1980 there were .32 locations per ten thousand people. In Jackson it was .11 per ten thousand in 1980 but by 1985 it rose to .56. An increase from just 3 locations to 15 in 1985. It suggests that Sandifer’s characterization of Jackson could apply to other cities as well. They tended to be a draw for other LGBTQ people in their state."
   ]
  },
  {
   "cell_type": "code",
   "execution_count": null,
   "metadata": {
    "tags": [
     "hermeneutics"
    ]
   },
   "outputs": [],
   "source": [
    "total.capital <- total.capital %>% mutate(locations.per.10k = total.by.year/pop1980 * 10000)\n",
    "fig3 <- ggplot(data=total.capital, aes(x=Year, y=locations.per.10k)) + \n",
    "    geom_bar(stat=\"identity\") + facet_wrap(~state) + \n",
    "    ggtitle(\"Locations in Capital Cities Per 10k People in 1980\") + \n",
    "    ylab(\"Number of Locations\") + theme(plot.title = element_text(hjust = 0.5))"
   ]
  },
  {
   "cell_type": "code",
   "execution_count": null,
   "metadata": {
    "tags": [
     "narrative"
    ]
   },
   "outputs": [],
   "source": [
    "fig3"
   ]
  },
  {
   "cell_type": "markdown",
   "metadata": {
    "tags": [
     "narrative"
    ]
   },
   "source": [
    "**REVISE THIS PARAGRAPH IN LIGHT OF CONVO WITH ERIC**\n",
    "In some ways its unsurprising to see such growth in the early 1980s. The guides chronicle an important moment in LGBTQ history: the dramatic transformation in gay and lesbian life in the United States that occurred between Stonewall in 1968 and the start of the HIV/AIDS epidemic in 1981. Listings in the Damron guides drew exponentially during that period from just 1,199 locations in 1969 to 4,690 by 1981 — a 291% increase. By 1985 the number of listings had jumped another 28% to 5,746. In many ways the growth in the Damron guides is an indicator of success elsewhere in the 1970s. During this decade LGBTQ issues saw far more visibility in mainstream straight culture with movies like Cabaret, a film musical set in Weimar-era Berlin during the rise of the Nazi party, making their debut and political gains in cities across the country. Gay Pride week was established and homosexuality was finally removed from the American Psychiatric Association’s list of psychiatric disorders.  Moreover its clear from Damron’s guides that these gains were felt everywhere, not just in the bi-coastal cities of New York and San Francisco."
   ]
  },
  {
   "cell_type": "markdown",
   "metadata": {
    "tags": [
     "narrative"
    ]
   },
   "source": [
    "The growth in locations in the guide is a measure that does not necessarily require computational analysis to study. It is evident from looking at the guides themselves which grow in thickness from just forty-eight pages in 1965 to seven-hundred seventy by 2000. It is also recognizable looking at the map on the MGG website. However, there are two other components to the data that are easier to study with the use of computation: the ways in which the Damron guides signaled danger and the ability to track individual locations over time at scale. "
   ]
  },
  {
   "cell_type": "markdown",
   "metadata": {
    "tags": [
     "narrative"
    ]
   },
   "source": [
    "## Signaling Danger in the Guides"
   ]
  },
  {
   "cell_type": "markdown",
   "metadata": {
    "tags": [
     "narrative"
    ]
   },
   "source": [
    "The looming threat of sodomy laws, police harassment, arson, and other violence toward the LGBTQ community is present throughout the guides. Danger could look like many things but through the mid-70s it often took the form of brutal raids on gay bars. Cruising areas were also surveilled and patrolled by police often undercover. Damron accounts for these realities in several ways. First, he has categorizations that signal the potential presence of police at locations. (HOT) appears in the guides for the first time in 1975, although it was used sporadically before appearing in the “Explanation of Listings” at the beginning of the guide. The explanation of listings explained that “Hot means dangerous . . . fuzz . . . not ‘in’ as in the current vernacular” (<cite data-cite=\"627056/H4GSCZX8\"></cite>). It appeared for a few years before eventually being replaced by “At Your Own Risk” (AYOR) but the two categories were linked. In the 1978 Damron explained that cruisy areas, which included parks, beaches, highways, ‘rest stops’ and other public facilities, could be “extremely dangerous (HOT) for various reasons and should be visited strictly at your own risk.” Often this warning was amplified within the listings itself. In 1978, for example, the guide left a note above cruising areas in Long Beach, California that read: “Fuzz very active — all AYOR” (<cite data-cite=\"627056/MXBL88U2\"></cite>)."
   ]
  },
  {
   "cell_type": "markdown",
   "metadata": {
    "tags": [
     "narrative"
    ]
   },
   "source": [
    "But there were other hints of risk throughout the guides aside from these two categories. Damron would frequently list locations with “inquire locally” in place of an address. He may have done this for many reasons. It is possible he knew of the location but didn’t have an exact address for it. Occasionally he noted when a location was new and he didn’t yet have firm location details. For example, in 1980 the guides listed Echo Farms, a bar in Chattanooga, Tennessee, and explained that it was “supposedly opening soon” and readers should “inquire locally.”  While listings like this do appear, it is also possible, and probable, that Damron was asked not to print the address of certain locations meaning that the location was one that had to be accessed via whisper networks within the individual community. Sometimes these locations only appeared briefly like Chez Jay’s in Hamilton Ohio which was listed briefly in the 1978 and 1979 editions with directions to “inquire locally”. In Wrightsville Beach, North Carolina the guides listed Wit’s End (a mixed, (M), location) from 1970-1975 but never included an address. It is very likely that locations marked “inquire locally” were either monitored by police, encountered threats, or were generally private locations that did not welcome strangers for reasons of safety and community. "
   ]
  },
  {
   "cell_type": "markdown",
   "metadata": {
    "tags": [
     "narrative"
    ]
   },
   "source": [
    "Lastly, and much less frequently, Damron occasionally listed when a location had burned down or been destroyed but was attempting to reopen. For example, in 1973 Damron listed Lydia’s Tavern in Kenosha, Wisconsin and included a note that read: “This popular spot was destroyed by a fire. At present it is uncertain whether or not it will re-open.”  The _Kenosha News_ reported that the fire was being investigated as arson due to a “gasoline-fed” blaze. The owner, Lydia Kearney, escaped unharmed but reported seeing three white male suspects who other patrons reported “made several trips to the men’s room in a short period of time.\" When the suspects each came out of the restroom, \"gasoline was smelled on their clothing and hands.” The article goes on to note that the men’s room had a door which led to a utility room where a gasoline powered mower was stored. Calling the sheriff’s office Lydia Kearney excalimed, “I think they are going to burn the place down” (<cite data-cite=\"627056/CTT8S76Q\"></cite>).  Just two months later, Lydia’s Tavern was targeted once again with a fire breaking out in the basement of the bar (<cite data-cite=\"627056/UUATYY43\"></cite>). Incidents like this were fairly common. Gay bars and their patrons faced a consistent threat of violence. In 1977 Damron listed the relocation and renaming of a bar in North Hollywood called “The Other Side” due to “a vicious firebombing.” These entries were far less common than HOT/AYOR or “inquire locally” but they represent the extreme danger that faced many LGTBQ Americans and business owners."
   ]
  },
  {
   "cell_type": "markdown",
   "metadata": {
    "tags": [
     "narrative"
    ]
   },
   "source": [
    "MGG’s methodology tries to account for all three of these occurrences. Our data captures the amenity categorizations in a systematic manner that makes it possible to filter our web map by AYOR or HOT. But the presence of “inquire locally” and Damron’s own explanations about damage to an institution are harder to pin down because they were not formalized or systematic. However, using computational pattern matching libraries it is possible to search the entire dataset for elements of these danger characteristics. "
   ]
  },
  {
   "cell_type": "markdown",
   "metadata": {
    "tags": [
     "narrative"
    ]
   },
   "source": [
    "Pattern matching is a computational technique that checks a given sequence of tokens for the presence of some pattern. Pattern matching is not overly complex. In fact, many people use it unknowingly every time they search a document using the find function in their word processor. Using this strategy, it is possible to query the Damron guide data for locations that have either AYOR or HOT in the amenities, have the word “inquire” in either the address or description, or mention a fire, destruction or bombing in the description. What results is a dataset about violence and danger in the guides. Across all the guides from 1965 through 1985, 3.61% of the entries include some reference to danger . This percentage is slightly misleading because cruising locations, which were mostly likely to get a designation of AYOR or HOT, didn’t first appear in the guides until the 1973 edition. When looking at the data from 1973 to 1985, entries that indicate the potential for violence increases to 3.96%. "
   ]
  },
  {
   "cell_type": "markdown",
   "metadata": {
    "tags": [
     "narrative"
    ]
   },
   "source": [
    "As the LGBTQ rights movement made strides in the 1970s, the backlash and potential for danger also became more visible. The guides indicate that locations were becoming more dangerous over time. In the late 1970s dangerous locations amounted for, at most, 2.5% of all entries in the guidebook. By 1985 that number rose to 5.4% which is a striking (and steady) increase. (See fig 4). The rise in the number of dangerous locations is probably partly the result of the inclusion of more cruisy areas in the guides. The Damron Guides added this category in 1973 but it does not appear to have an immediate influence on the entries in the guides. However, in the years that follow there was a steady increase in the number of locations that were marked this way. "
   ]
  },
  {
   "cell_type": "code",
   "execution_count": null,
   "metadata": {
    "tags": [
     "hermeneutics"
    ]
   },
   "outputs": [],
   "source": [
    "danger <- mgg %>% filter(grepl(\"(AYOR)\", mgg$amenityfeatures, fixed = TRUE) \n",
    "                         | grepl(\"(HOT)\", mgg$amenityfeatures, fixed = TRUE) \n",
    "                         | grepl(\"inquire\", mgg$description, ignore.case = TRUE) \n",
    "                         | grepl(\"inquire\", mgg$streetaddress, ignore.case = TRUE) \n",
    "                         | grepl(\"fire \", mgg$description, ignore.case=TRUE) \n",
    "                         | grepl(\"fire,\", mgg$description, ignore.case=TRUE) \n",
    "                         | grepl(\"fire.\", mgg$description, ignore.case=TRUE))\n",
    "head(danger)"
   ]
  },
  {
   "cell_type": "code",
   "execution_count": null,
   "metadata": {
    "tags": [
     "hermeneutics"
    ]
   },
   "outputs": [],
   "source": [
    "num.loc.by.year <- mgg %>% group_by(Year) %>% summarize(total.by.year = n())\n",
    "danger.by.year <- danger %>% group_by(Year) %>% summarize(danger.total.by.year = n())\n",
    "danger.by.year <- merge(danger.by.year, num.loc.by.year) %>% \n",
    "    mutate(percent.loc.dangerous = danger.total.by.year/total.by.year*100)\n",
    "\n",
    "fig4 <- ggplot(danger.by.year, aes(x=Year, y=percent.loc.dangerous)) + \n",
    "    geom_bar(stat='identity') + \n",
    "    ggtitle(\"Percentage of Locations with Indications of Danger \\nin the Damron Guides, 1965-1985\") + \n",
    "    ylab(\"Percentage\") + theme(plot.title = element_text(hjust = 0.5))"
   ]
  },
  {
   "cell_type": "code",
   "execution_count": null,
   "metadata": {
    "tags": [
     "narrative",
     "hermeneutics"
    ]
   },
   "outputs": [],
   "source": [
    "fig4"
   ]
  },
  {
   "cell_type": "markdown",
   "metadata": {
    "tags": [
     "narrative"
    ]
   },
   "source": [
    "This steady increase occurs when looking at either AYOR or HOT entries, but the number of entries marked as Inquire Locally ebbs and flows more across time. Rather than an upward increase, the number of locations with directions to “inquire locally” peak in 1973 (22 entries) before declining throughout the 1970s before peaking one more time in 1980. Using just the guides it is hard to tell why the “inquire locally” locations peaked in 1973. It’s possible that a staffing or other issue led to trouble verifying addresses. In subsequent years there was a steady decline and by 1985 the number of spots listed in this way fell by so much that only 5 entries instructed readers to “inquire locally.” Of these remaining few entries, some are logical candidates for this designation. Places like the Emo River (a cruising area) was “very secluded.” However, others were bars like J.R.’s Why Not in Springfield, Ohio and Regina’s in Carbondale, PA which prompts questions about why their locations would have been withheld from inclusion. "
   ]
  },
  {
   "cell_type": "markdown",
   "metadata": {
    "tags": [
     "narrative"
    ]
   },
   "source": [
    "The same year that locations with directions to “inquire locally” decreased, cruisy areas began appearing in the guides. Throughout the 1970s, they were increasingly described as dangerous. The number of cruising areas increased dramatically as well going from just 5 in 1974 to 281 in 1985. But the proportion of cruising areas marked as dangerous grew tremendously in the early 80s. In the mid-1970s the number of locations marked AYOR or HOT hovered was about 5% of all cruisy locations. However, by 1981 that number jumped to just over 14% and even further to 17.4% by 1984. \n",
    "\n",
    "**CHARTS TO ILLUSTRATE THIS SHIFT**"
   ]
  },
  {
   "cell_type": "code",
   "execution_count": null,
   "metadata": {},
   "outputs": [],
   "source": [
    "# percentage of crusiy locations marked as dangerous\n",
    "cruisy <- mgg %>% filter(grepl(\"Cruisy\", mgg$amenityfeatures, ignore.case = TRUE))\n",
    "cruisy.danger <- cruisy %>% filter(grepl(\"(HOT)\", cruisy$amenityfeatures, ignore.case =TRUE) | \n",
    "                                          grepl(\"(AYOR)\", cruisy$amenityfeatures, ignore.case = TRUE))\n",
    "cruisy <- cruisy %>% group_by(Year) %>% summarize(total.cruisy = n())\n",
    "cruisy.danger <- cruisy.danger %>% group_by(Year) %>% summarize(total.cruisy.danger = n())\n",
    "\n",
    "cruisy <- merge(cruisy, cruisy.danger)\n",
    "cruisy <- cruisy %>% mutate(percent.dangerous = total.cruisy.danger/total.cruisy*100)"
   ]
  },
  {
   "cell_type": "code",
   "execution_count": null,
   "metadata": {},
   "outputs": [],
   "source": [
    "fig5 <- ggplot(cruisy, aes(x=Year, y=percent.dangerous)) + \n",
    "    geom_line() + \n",
    "    ggtitle(\"Percentage of Cruisy Locations with Indications of Danger \\nin the Damron Guides, 1965-1985\") + \n",
    "    ylab(\"Percentage\") + theme(plot.title = element_text(hjust = 0.5))\n",
    "\n",
    "fig5"
   ]
  },
  {
   "cell_type": "markdown",
   "metadata": {
    "tags": [
     "narrative"
    ]
   },
   "source": [
    "What accounts for this change? While it is impossible to say conclusively, we know that the 1970s and 1980s saw both new visibility for LGBTQ Americans but also new backlash. In Jackson, the appearance of the Metropolitan Community Church (MCC) in the guides sparked outrage and calls for the prosecution of LGBTQ Americans. Rev Mike Wells, the president of the Mississippi Moral Majority, held a press conference where he “called on city officials to ‘decrease or control the activity of the homosexual element’ in Jackson, charging that homosexuals ‘openly displayed their perversion’ in the city” and he demanded the state pass new anti-sodomy laws in the next legislative session. Sandifer, still a leading activist in the community, condemned Wells and the Moral Majority on behalf of Mississippi’s gay community. He argued that not only did the “gay community [have] no intention of being intimidated” but also added that “Gay persons do not pose a threat to persons on Capital Street, at night in Smith Park, at the bars or anywhere else” (<cite data-cite=\"undefined\"></cite>). It is notable that the first locations Sandifer mentions are those that came to be described as dangerous – cruisy locations like Smith Park and Capital Street. Of course, these locations were likely dangerous far before the moral majority began advocating for anti-sodomy laws. Reports of undercover police patrolling Smith Park pepper the Jackson Clarion Ledger (<cite data-cite=\"627056/F9Y6VVG9\"></cite>), (<cite data-cite=\"627056/IRKTX278\"></cite>). Nevertheless, looking at incidents like these in tandem with data from the guides suggests a larger pattern in American cities."
   ]
  },
  {
   "cell_type": "markdown",
   "metadata": {
    "tags": [
     "narrative"
    ]
   },
   "source": [
    "Reform around sex and gender was a major component of the LGBTQ Rights movement of the 1960s, 1970s, and 1980s. Not only did the era after Stonewall see decline in some police harassment, but there were also significant gains in sodomy law reform. In the 1970s twenty states joined Illinois and Connecticut in repealing their sodomy laws. Wisconsin joined them in 1983 and both New York and Pennsylvania’s Supreme Court invalidated sodomy laws.   However, even though there were significant gains, as Marc Stein notes by the 1980s sodomy was “still a crime in half of US states, the territories, military and in prisons” (<cite data-cite=\"627056/5WX6QQ34\"></cite>), (<cite data-cite=\"627056/8SCHA9SR\"></cite>), (<cite data-cite=\"627056/Q84L4CM4\"></cite>), (<cite data-cite=\"627056/NPX5I3CU\"></cite>), (<cite data-cite=\"627056/5LB29ENJ\"></cite>). Even where sodomy laws were passed, some cities passed legislation that prevented loitering, cross dressing, or created new distinctions between same-sex and cross-sex sodomy. The Christian Right and New Right in the United States openly campaigned against the reform of sodomy laws and encouraged new laws that targeted the LGBTQ community. "
   ]
  },
  {
   "cell_type": "markdown",
   "metadata": {
    "tags": [
     "narrative"
    ]
   },
   "source": [
    "## Tracking the Fleeting Nature of LGTBQ Bars and Businesses"
   ]
  },
  {
   "cell_type": "markdown",
   "metadata": {},
   "source": [
    "For many reasons, gay bars and LGBTQ businesses’s existence can be fleeting (<cite data-cite=\"627056/ML3CKKEP\"></cite>), (<cite data-cite=\"627056/X6I8CZAK\"></cite>). One challenge presented by the data from Damron’s guide is that locations are listed every year and there is not an easy way to track the appearance and disappearance of individual locations in the guides— a researcher would have to compare every edition of the guide looking at every space. While this is theoretically possible using archival copies of the guides, it’d be far more difficult without the use of technology. Were LGBTQ locations subject to more turnover in big cities than small communities with a dedicated customer base? Computational methods offer one foray into grouping locations by name to measure the average length of time they appeared in the guides. Using computational methods, it is possible to take a macro-view of locations within the Damron guides and the ever-changing makeup of individual communities. "
   ]
  },
  {
   "cell_type": "markdown",
   "metadata": {
    "tags": [
     "hermeneutics"
    ]
   },
   "source": [
    "Some locations appear in many editions of the guide and its common to see each one described slightly differently. It appears that the locations that survive from year to year were indeed updated and not copied wholesale from the previous edition. For example, in the late 1970s \"Club Gemini\" is listed in Greenville, South Carolina. Looking at the descriptions for this club during the eight years it appeared in the guides reveals substantial differences in the way the location is described and categorized."
   ]
  },
  {
   "cell_type": "code",
   "execution_count": null,
   "metadata": {
    "tags": [
     "hermeneutics"
    ]
   },
   "outputs": [],
   "source": [
    "gemini <- mgg %>% filter(city == \"Greenville\" & state == \"SC\")\n",
    "gemini <- gemini %>% filter(grepl(\"Gemini\", gemini$title, ignore.case = TRUE)) %>% \n",
    "    select(title, description, streetaddress, amenityfeatures, Year)\n",
    "\n",
    "gemini"
   ]
  },
  {
   "cell_type": "markdown",
   "metadata": {
    "tags": [
     "hermeneutics"
    ]
   },
   "source": [
    "The description of Club Gemini, which was for most of the 1970s and early 1980s the only gay bar that appeared in the guides, changed rather substantially between 1978 when it first appears and 1985 when our (current) data ends. A private bar, it was sometimes described as (B) for \"Blacks frequent\" and sometimes noted for its popularity. The _Greenville News_ wrote about the \"city's lone gay bar\" as being the \"focal point of public homosexual life in Greenville\" in 1976. Although the _Greenville News_ never names the bar, its probable that the location discussed was indeed Club Gemini. The article explained that while \"other bars in town are frequented by gays, there is only one that caters almost exclusively to male homosexuals.\" Club Gemini, the article explained, offered gay Greenville men a place to \"escape the everday world which seeks to exclude them\" and offered \"refuge, companionship, and a place to socialize and exchange gossip\" (<cite data-cite=\"627056/KDZV2FSL\"></cite>)."
   ]
  },
  {
   "cell_type": "markdown",
   "metadata": {
    "tags": [
     "hermeneutics"
    ]
   },
   "source": [
    "Club Gemini's description varied quite a bit over its run in the guides but because the name of the establishment never changed, it is a relatively easy location to track over time. However, this is not the case for every location in the guides. Locations often were added to the guides with slight variations in the title or name of the establishment. For example, in 1975 a location called \"Alicia's Mexican\" is listed in Denver Colorado. The location appears for about 6 years and during that time the name of the establishment changes from \"Alicia's Mexican\" to just \"Alicia's\". The description also changes slightly and the location is listed at two differnt addresses during that time with one year having no address at all. The data can be even more complicated when looking at crusing locations in which the title of the location is not always entirely clear for our transcription team or where the title changes in subsequent appearances. "
   ]
  },
  {
   "cell_type": "markdown",
   "metadata": {
    "tags": [
     "narrative"
    ]
   },
   "source": [
    "Measuring the length a location appears in the guides is challenging because of the limitations of these sources. As established earlier, the publication schedule meant that sometimes closures or openings were not reflected immediately. Nevertheless, measuring the average length of a location in the guide can be helpful in understanding communities across the country. Fuzzy matching theory provides one approach to identifying locations that appear repeatedly in the guides. This approach computes a numerical “distance” between every potential string (title of a location) and then attempts to pick the closest matching data. The technique used here, and the most common method, is the Jaro-Winkler method for matching strings. It considers the length of the string (title), number of transpositions in the string, and the number of matching characters.  Comparing each location to the other sixty thousand locations in this dataset is computationally intensive but what results is a fairly accurate matching of institutions with the same name. "
   ]
  },
  {
   "cell_type": "markdown",
   "metadata": {
    "tags": [
     "narrative"
    ]
   },
   "source": [
    "The data culled by our team from the Damron Guides is well suited for this technique because of the frequent but small deviations in the name of a location. Due to our human transcription system, inconsistencies and typos do appear despite efforts to standardize our data. Added to that are Damron’s own consistencies. For example, in 1983 Damron lists a location called the “Sutra Bath House” by 1984 he has shortened that entries title to “Sutra Baths.” They are the same location but for counting purposes they appear differently in the text. Some entries require more nuance when completing data entry. For example, the “Swimming Hole at Milford Quarries - opp. Rte. 495 Exit” appears in several guides. As a result of changes in the way Damron prints it and inconsistencies in our own transcription process, the title ends up slightly different depending on the year. Sometimes its “Swimming Hole” sometimes its “Swimming Hole at Milford Quarries.” The sheer scale of our data entry process makes it difficult to standardize this across years but using fuzzy matching theory the computer can predict that these are the same entries based on numerous criteria including comparing the state, city, and address to each other which results in a fairly successful rate of matching. "
   ]
  },
  {
   "cell_type": "markdown",
   "metadata": {
    "tags": [
     "narrative"
    ]
   },
   "source": [
    "What results from using this fuzzy matching method? In Jackson, it reveals that across two decades, from 1965 to 1985, there were 32 unique locations. On average, those locations appeared in the guides for 2.42 years before disappearing. However, that varied based on the type of location. Bars, for example, appeared in 2.9 guides before disappearing. In contrast, a large urban city like Atlanta saw bars appear in 3.21 guides on average. Nationally, bars appeared in 3.96 guides. "
   ]
  },
  {
   "cell_type": "markdown",
   "metadata": {
    "tags": [
     "narrative"
    ]
   },
   "source": [
    "What emerges from such a technique is the ability to further study local communities and local institutions. It makes it possible to answer questions about things like the effect of the AIDS crisis on local institutions in the 1980s. Did the death of gay men at the hands of HIV/AIDS influence the closure of gay men’s bars? Initial work on this question suggests that it did. Between 1965 and 1979 bars and clubs appeared in an average of 4.65 editions of the Damron guide. Between 1980 and 1985 that average falls to 3.28. Given that in the early years of the crisis some cities, like New York and San Francisco, gave local health officials the power to close places of “high-risk sexual activity”  this makes sense. However, we do not yet have full data beyond 1985, so it is possible that this isn’t an accurate depiction. It is also possible, even likely, that there are differences in how the aids crisis effected local bars in different cities. Work on this measure remains to be done, but the approach has the potential to yield new insights into the contours and longevity of LGBTQ community spaces during moments like the AIDS crisis and even other moments such as the emergence of a new internet culture in the late 90s and early 2000s.  "
   ]
  },
  {
   "cell_type": "markdown",
   "metadata": {},
   "source": [
    "### Conclusion\n",
    "The Damron Corporation, the company that bought the Bob Damron Address Book in the late 1980s, ceased publication in 2019 after struggling throughout the 2000s and 2010s to publish a physical guidebook in the digital age. MGG intends to digitize and make freely available data from the guides up to 2005. This additional data will make Mapping the Gay Guides an even richer resource. It will yield fascinating insights into the ways in which historical themes and events like the emergence of the internet and the establishment of Don’t Ask Don’t Tell influenced the communities described in the Damron Guides. With an additional 60k locations, this data will not only serve not only as a source for the visualization on the MGG website but also as a tool for other scholars looking to study changes in queer geography over time. "
   ]
  },
  {
   "cell_type": "code",
   "execution_count": null,
   "metadata": {},
   "outputs": [],
   "source": []
  }
 ],
 "metadata": {
  "celltoolbar": "Tags",
  "cite2c": {
   "citations": {
    "627056/35Y4T6Q8": {
     "author": [
      {
       "family": "Taff",
       "given": "Carol"
      }
     ],
     "container-title": "Jackson Daily News (The Clarion Ledger)",
     "id": "627056/35Y4T6Q8",
     "issued": {
      "day": 9,
      "month": 9,
      "year": 1979
     },
     "title": "Jackson's Insular, Secret Society",
     "type": "article-newspaper"
    },
    "627056/5LB29ENJ": {
     "author": [
      {
       "family": "Miller",
       "given": "Ronnie"
      }
     ],
     "container-title": "The Clarion-Ledger",
     "event-place": "Jackson, Mississippi",
     "id": "627056/5LB29ENJ",
     "issued": {
      "day": 5,
      "month": 6,
      "year": 1983
     },
     "publisher-place": "Jackson, Mississippi",
     "title": "Jackson's Gays Strong Subculture",
     "type": "article-newspaper"
    },
    "627056/5WX6QQ34": {
     "author": [
      {
       "family": "Stein",
       "given": "Marc"
      }
     ],
     "container-title": "Communities and Place: A Thematic Approach to Histories of LGBTQ Communities in the United States",
     "editor": [
      {
       "family": "Springate",
       "given": "Megan E."
      },
      {
       "family": "Crawford-Lackey",
       "given": "Katherine"
      }
     ],
     "event-place": "New York",
     "id": "627056/5WX6QQ34",
     "issued": {
      "year": 2020
     },
     "publisher": "Berghahn Books",
     "publisher-place": "New York",
     "title": "Historical Landmarks and Landscape of LGBTQ Law",
     "type": "chapter"
    },
    "627056/8SCHA9SR": {
     "ISBN": "978-1-4773-2232-1",
     "abstract": "In 2003 the US Supreme Court overturned anti-sodomy laws across the country, ruling in Lawrence v. Texas that the Constitution protects private consensual sex between adults. To some, the decision seemed to come like lightning from above, altering the landscape of America’s sexual politics all at once. In actuality, many years of work and organizing led up to the legal case, and the landmark ruling might never have happened were it not for the passionate struggle of Texans who rejected their state’s discriminatory laws. Before Lawrence v. Texas tells the story of the long, troubled, and ultimately hopeful road to constitutional change. Wesley G. Phelps describes the achievements, setbacks, and unlikely alliances along the way. Over the course of decades, and at great risk to themselves, gay and lesbian Texans and their supporters launched political campaigns and legal challenges, laying the groundwork for Lawrence. Phelps shares the personal experiences of the people and couples who contributed to the legal strategy that ultimately overturned the state’s discriminatory law. Even when their individual court cases were unsuccessful, justice seekers and activists collectively influenced public opinion by insisting that their voices be heard. Nine Supreme Court justices ruled, but it was grassroots politics that vindicated the ideal of equality under the law.",
     "author": [
      {
       "family": "Phelps",
       "given": "Wesley G."
      }
     ],
     "id": "627056/8SCHA9SR",
     "issued": {
      "day": 7,
      "month": 2,
      "year": 2023
     },
     "language": "en",
     "number-of-pages": "303",
     "publisher": "University of Texas Press",
     "shortTitle": "Before Lawrence V. Texas",
     "title": "Before Lawrence V. Texas: The Making of a Queer Social Movement",
     "title-short": "Before Lawrence V. Texas",
     "type": "book"
    },
    "627056/AHB59DXV": {
     "DOI": "10.1093/jahist/jau184",
     "author": [
      {
       "family": "Blevins",
       "given": "Cameron"
      }
     ],
     "container-title": "Journal of American History",
     "id": "627056/AHB59DXV",
     "issue": "1",
     "issued": {
      "month": 6,
      "year": 2014
     },
     "page": "122-147",
     "page-first": "122",
     "title": "Space, Nation, and Triumph of Region: A View of the World from Houston",
     "type": "article-journal",
     "volume": "101"
    },
    "627056/BQGQSBM9": {
     "DOI": "10.1080/14680777.2019.1665569",
     "author": [
      {
       "family": "Ketchum",
       "given": "Alexandra (Alex) Diva"
      }
     ],
     "container-title": "Feminist Media Studies",
     "id": "627056/BQGQSBM9",
     "issued": {
      "year": 2019
     },
     "title": "\"Say 'hi' from Gaia\": Women's Travel Guides and Lesbian Feminist Community Formation in the Pre-Internet Era (1975-1992)",
     "type": "article-journal"
    },
    "627056/C5S4Y4RQ": {
     "edition": "Twelfth Edition",
     "event-place": "San Francisco: Bob Damron Enterprises, Inc.",
     "id": "627056/C5S4Y4RQ",
     "issued": {
      "year": 1975
     },
     "publisher-place": "San Francisco: Bob Damron Enterprises, Inc.",
     "title": "Bob Damron's Address Book '76",
     "type": "book"
    },
    "627056/CTT8S76Q": {
     "container-title": "Kenosha News",
     "id": "627056/CTT8S76Q",
     "issued": {
      "day": 7,
      "month": 9,
      "year": 1971
     },
     "title": "Arson is suspected as fire guts tavern",
     "type": "article-newspaper"
    },
    "627056/EWGFL9LS": {
     "author": [
      {
       "family": "Milligan",
       "given": "Ian"
      }
     ],
     "event-place": "Montreal & Kingston",
     "id": "627056/EWGFL9LS",
     "issued": {
      "year": 2019
     },
     "publisher": "MCGill-Queen's University Press",
     "publisher-place": "Montreal & Kingston",
     "title": "History in the Age of Abunance: How the Web is Transforming Historical Research",
     "type": "book"
    },
    "627056/F9Y6VVG9": {
     "container-title": "The Clarion-Ledger",
     "event-place": "Jackson, Mississippi",
     "id": "627056/F9Y6VVG9",
     "issued": {
      "day": 30,
      "month": 9,
      "year": 1976
     },
     "publisher-place": "Jackson, Mississippi",
     "title": "Gay Leader Charges Police Harassment",
     "type": "article-newspaper"
    },
    "627056/H4GSCZX8": {
     "edition": "Twelfth Edition",
     "event-place": "San Francisco: Bob Damron Enterprises, Inc.",
     "id": "627056/H4GSCZX8",
     "issued": {
      "year": 1974
     },
     "publisher-place": "San Francisco: Bob Damron Enterprises, Inc.",
     "title": "Bob Damron's Address Book '75",
     "type": "book"
    },
    "627056/H7UTBZHZ": {
     "URL": "http://d-scholarship.pitt.edu/20882/",
     "abstract": "This working paper explores the consequences for historians' research practice of the twinned transnational and digital turns.  The accelerating digitization of historians' sources (scholarly, periodical, and archival) and the radical shift in the granularity of access to information within them has radically changes historians' research practice. Yet this has incited remarkably little reflection regarding the consequences for individual projects or collective knowledge generation.  What are the implications for international research in particular?  This essay heralds the new kinds of historical knowledge-generation made possible by web access to digitized, text-searchable sources.  It also attempts an accounting of all that we formerly, unwittingly, gained from the frictions inherent to international research in an analog world. What are the intellectual and political consequences of that which has been lost?",
     "accessed": {
      "day": 11,
      "month": 12,
      "year": 2014
     },
     "author": [
      {
       "family": "Putnam",
       "given": "Lara"
      }
     ],
     "container-title": "Digital Scholarship at Pittsburg",
     "id": "627056/H7UTBZHZ",
     "issued": {
      "month": 2,
      "year": 2014
     },
     "shortTitle": "The Transnational and the Text-Searchable",
     "title": "The Transnational and the Text-Searchable: Digitized Sources and the Shadows They Cast",
     "title-short": "The Transnational and the Text-Searchable",
     "type": "paper-conference"
    },
    "627056/IRKTX278": {
     "container-title": "The Clarion-Ledger",
     "event-place": "Jackson, Mississippi",
     "id": "627056/IRKTX278",
     "issued": {
      "day": 12,
      "month": 10,
      "year": 1977
     },
     "publisher-place": "Jackson, Mississippi",
     "title": "Local Gay Activist Mark Bryant Visit",
     "type": "article-newspaper"
    },
    "627056/ISYCLYW3": {
     "edition": "Fifth Edition",
     "event-place": "San Francisco: Calafran Enterprises, Inc",
     "id": "627056/ISYCLYW3",
     "issued": {
      "year": 1968
     },
     "publisher-place": "San Francisco: Calafran Enterprises, Inc",
     "title": "Bob Damron's 1969 Address Book",
     "type": "book"
    },
    "627056/KDZV2FSL": {
     "container-title": "The Greenville News",
     "event-place": "Piedmont, South Carolina",
     "id": "627056/KDZV2FSL",
     "issued": {
      "day": 19,
      "month": 9,
      "year": 1976
     },
     "page": "1D",
     "page-first": "1D",
     "publisher-place": "Piedmont, South Carolina",
     "title": "The Gay Bar: Focal Point of Public Life",
     "type": "article-newspaper"
    },
    "627056/ML3CKKEP": {
     "URL": "https://www.dailyxtra.com/is-the-gaybourhood-unravelling-14510",
     "accessed": {
      "day": 21,
      "month": 3,
      "year": 2023
     },
     "author": [
      {
       "family": "Babineau",
       "given": "Guy"
      }
     ],
     "container-title": "Xtra",
     "id": "627056/ML3CKKEP",
     "issued": {
      "day": 8,
      "month": 10,
      "year": 2008
     },
     "title": "Is the gaybourhood unravelling?",
     "type": "article-newspaper"
    },
    "627056/MXBL88U2": {
     "edition": "Twelfth Edition",
     "event-place": "San Francisco: Bob Damron Enterprises, Inc.",
     "id": "627056/MXBL88U2",
     "issued": {
      "year": 1977
     },
     "publisher-place": "San Francisco: Bob Damron Enterprises, Inc.",
     "title": "Bob Damron's Address Book '78",
     "type": "book"
    },
    "627056/NPX5I3CU": {
     "author": [
      {
       "family": "Cullen",
       "given": "Clark"
      }
     ],
     "container-title": "The Clarion-Ledger",
     "event-place": "Jackson, Mississippi",
     "id": "627056/NPX5I3CU",
     "issued": {
      "day": 28,
      "month": 4,
      "year": 1983
     },
     "publisher-place": "Jackson, Mississippi",
     "title": "Gays Answer Moral Majority",
     "type": "article-newspaper"
    },
    "627056/NU85NDSA": {
     "edition": "Seventeenth Edition",
     "event-place": "San Francisco: Bob Damron Enterprises, Inc.",
     "id": "627056/NU85NDSA",
     "issued": {
      "year": 1980
     },
     "publisher-place": "San Francisco: Bob Damron Enterprises, Inc.",
     "title": "Bob Damron's Address Book '81",
     "type": "book"
    },
    "627056/Q84L4CM4": {
     "container-title": "Delta Democrat-Times",
     "id": "627056/Q84L4CM4",
     "issued": {
      "day": 12,
      "month": 10,
      "year": 1977
     },
     "title": "Police Criticized in Jackson",
     "type": "article-newspaper"
    },
    "627056/TCML8KI4": {
     "ISBN": "978-1-988111-42-1",
     "author": [
      {
       "family": "Ketchum",
       "given": "Alexandra"
      }
     ],
     "event-place": "Montreal, QC",
     "id": "627056/TCML8KI4",
     "publisher": "Concordia University Press",
     "publisher-place": "Montreal, QC",
     "title": "Ingredients for Revolution: A History of American Feminist Restaurants, Cafes, and Coffeehouses",
     "type": "book"
    },
    "627056/UASQIXNS": {
     "ISBN": "978-1-4399-0553-1",
     "abstract": "What did young, independent women do for fun and how did they pay their way into New York City's turn-of-the-century pleasure places? Cheap Amusements is a fascinating discussion of young working women whose meager wages often fell short of bare subsistence and rarely allowed for entertainment expenses.  Kathy Peiss follows working women into saloons, dance halls, Coney Island amusement parks, social clubs, and nickelodeons to explore the culture of these young women between 1880 and 1920 as expressed in leisure activities. By examining the rituals and styles they adopted and placing that culture in the larger context of urban working-class life, she offers us a complex picture of the dynamics shaping a working woman's experience and consciousness at the turn-of-the-century. Not only does her analysis lead us to new insights into working-class culture, changing social relations between single men and women, and urban courtship, but it also gives us a fuller understanding of the cultural transformations that gave rise to the commercialization of leisure.  The early twentieth century witnessed the emergence of \"heterosocial companionship\" as a dominant ideology of gender, affirming mixed-sex patterns of social interaction, in contrast to the nineteenth century's segregated spheres. Cheap Amusements argues that a crucial part of the \"reorientation of American culture\" originated from below, specifically in the subculture of working women to be found in urban dance halls and amusement resorts.",
     "author": [
      {
       "family": "Peiss",
       "given": "Kathy"
      }
     ],
     "issued": {
      "day": 19,
      "month": 1,
      "year": 2011
     },
     "language": "en",
     "number-of-pages": "257",
     "publisher": "Temple University Press",
     "title": "Cheap Amusements",
     "type": "book"
    },
    "627056/UUATYY43": {
     "container-title": "Kenosha News",
     "id": "627056/UUATYY43",
     "issued": {
      "day": 19,
      "month": 11,
      "year": 1971
     },
     "title": "Tavern Hit by 2nd Fire in 2 months",
     "type": "article-newspaper"
    },
    "627056/W73KKIZI": {
     "ISBN": "9781139923880",
     "URL": "http://historymanifesto.cambridge.org/",
     "author": [
      {
       "family": "Jo Guildi",
       "given": ""
      },
      {
       "family": "David Armitage",
       "given": ""
      }
     ],
     "edition": "Open Access Edition",
     "id": "627056/W73KKIZI",
     "issued": {
      "day": 3,
      "month": 10,
      "year": 2014
     },
     "publisher": "Cambridge University Press",
     "title": "The History Manifesto",
     "type": "book"
    },
    "627056/X6I8CZAK": {
     "URL": "https://courier-journal.com/story/news/local/2019/06/28/louisvilles-last-lesbian-bar-purrswaytions-shows-lgbt-nightlife-shift/1385370001/",
     "author": [
      {
       "family": "Eadens",
       "given": "Savannah"
      }
     ],
     "container-title": "Courier",
     "id": "627056/X6I8CZAK",
     "issued": {
      "day": 28,
      "month": 6,
      "year": 2019
     },
     "title": "It's 'Cheers, but queer.' Louisville's last lesbian bar reflects shifts in LGBTQ nightlife",
     "type": "article-newspaper"
    },
    "undefined": {
     "author": [
      {
       "family": "Taff",
       "given": "Carol"
      }
     ],
     "container-title": "Jackson Daily News (The Clarion Ledger)",
     "id": "undefined",
     "issued": {
      "day": 9,
      "month": 9,
      "year": 1979
     },
     "title": "Jackson's Insular, Secret Society",
     "type": "article-newspaper"
    }
   }
  },
  "kernelspec": {
   "display_name": "R",
   "language": "R",
   "name": "ir"
  },
  "language_info": {
   "codemirror_mode": "r",
   "file_extension": ".r",
   "mimetype": "text/x-r-source",
   "name": "R",
   "pygments_lexer": "r",
   "version": "4.0.4"
  },
  "toc": {
   "base_numbering": 1,
   "nav_menu": {},
   "number_sections": true,
   "sideBar": true,
   "skip_h1_title": false,
   "title_cell": "Table of Contents",
   "title_sidebar": "Contents",
   "toc_cell": false,
   "toc_position": {},
   "toc_section_display": true,
   "toc_window_display": false
  }
 },
 "nbformat": 4,
 "nbformat_minor": 4
}
